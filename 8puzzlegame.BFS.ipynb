{
  "nbformat": 4,
  "nbformat_minor": 0,
  "metadata": {
    "colab": {
      "provenance": [],
      "authorship_tag": "ABX9TyN2WSfkEe4y2Z6HxZKUPVnT",
      "include_colab_link": true
    },
    "kernelspec": {
      "name": "python3",
      "display_name": "Python 3"
    },
    "language_info": {
      "name": "python"
    }
  },
  "cells": [
    {
      "cell_type": "markdown",
      "metadata": {
        "id": "view-in-github",
        "colab_type": "text"
      },
      "source": [
        "<a href=\"https://colab.research.google.com/github/KshitijS093/AI-Lab/blob/main/8PuzzleGameBFS.ipynb\" target=\"_parent\"><img src=\"https://colab.research.google.com/assets/colab-badge.svg\" alt=\"Open In Colab\"/></a>"
      ]
    },
    {
      "cell_type": "code",
      "execution_count": 1,
      "metadata": {
        "colab": {
          "base_uri": "https://localhost:8080/"
        },
        "id": "F7mfrKystKVM",
        "outputId": "a8856b3f-d3c8-44e1-ee12-b3adb4cf90d4"
      },
      "outputs": [
        {
          "output_type": "stream",
          "name": "stdout",
          "text": [
            "[1, 2, 3, 4, 5, 6, 0, 7, 8]\n",
            "[1, 2, 3, 0, 5, 6, 4, 7, 8]\n",
            "[1, 2, 3, 4, 5, 6, 7, 0, 8]\n",
            "[0, 2, 3, 1, 5, 6, 4, 7, 8]\n",
            "[1, 2, 3, 5, 0, 6, 4, 7, 8]\n",
            "[1, 2, 3, 4, 0, 6, 7, 5, 8]\n",
            "[1, 2, 3, 4, 5, 6, 7, 8, 0]\n",
            "success\n"
          ]
        }
      ],
      "source": [
        "import numpy as np\n",
        "import pandas as pd\n",
        "import os\n",
        "\n",
        "def gen(state, m, b):\n",
        "    temp = state.copy()\n",
        "\n",
        "    if m == 'd':\n",
        "        temp[b + 3], temp[b] = temp[b], temp[b + 3]\n",
        "    elif m == 'u':\n",
        "        temp[b - 3], temp[b] = temp[b], temp[b - 3]\n",
        "    elif m == 'l':\n",
        "        temp[b - 1], temp[b] = temp[b], temp[b - 1]\n",
        "    elif m == 'r':\n",
        "        temp[b + 1], temp[b] = temp[b], temp[b + 1]\n",
        "\n",
        "    return temp  # Return the modified state\n",
        "\n",
        "def possible_moves(state, visited_states):\n",
        "    b = state.index(0)\n",
        "    d = []\n",
        "\n",
        "    if b not in [0, 1, 2]:\n",
        "        d.append('u')\n",
        "    if b not in [6, 7, 8]:\n",
        "        d.append('d')\n",
        "    if b not in [0, 3, 6]:\n",
        "        d.append('l')\n",
        "    if b not in [2, 5, 8]:\n",
        "        d.append('r')\n",
        "\n",
        "    pos_moves_it_can = []\n",
        "\n",
        "    for i in d:\n",
        "        pos_moves_it_can.append(gen(state, i, b))\n",
        "\n",
        "    return [move_it_can for move_it_can in pos_moves_it_can if move_it_can not in visited_states]\n",
        "\n",
        "def bfs(src, target):\n",
        "    queue = []\n",
        "    queue.append(src)\n",
        "\n",
        "    exp = []\n",
        "\n",
        "    while len(queue) > 0:\n",
        "        source = queue.pop(0)\n",
        "        exp.append(source)\n",
        "\n",
        "        print(source)\n",
        "\n",
        "        if source == target:\n",
        "            print(\"success\")\n",
        "            return\n",
        "\n",
        "        poss_moves_to_do = possible_moves(source, exp)\n",
        "\n",
        "        for move in poss_moves_to_do:\n",
        "            if move not in exp and move not in queue:\n",
        "                queue.append(move)\n",
        "\n",
        "src = [1, 2, 3, 4, 5, 6, 0, 7, 8]\n",
        "target = [1, 2, 3, 4, 5, 6, 7, 8, 0]\n",
        "bfs(src, target)"
      ]
    }
  ]
}
