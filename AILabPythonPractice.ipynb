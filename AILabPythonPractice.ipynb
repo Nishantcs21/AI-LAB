{
  "nbformat": 4,
  "nbformat_minor": 0,
  "metadata": {
    "colab": {
      "provenance": [],
      "authorship_tag": "ABX9TyNunu7oH0xoAQS4ed+hL5Pt",
      "include_colab_link": true
    },
    "kernelspec": {
      "name": "python3",
      "display_name": "Python 3"
    },
    "language_info": {
      "name": "python"
    }
  },
  "cells": [
    {
      "cell_type": "markdown",
      "metadata": {
        "id": "view-in-github",
        "colab_type": "text"
      },
      "source": [
        "<a href=\"https://colab.research.google.com/github/KshitijS093/AI-Lab/blob/main/AILabPythonPractice.ipynb\" target=\"_parent\"><img src=\"https://colab.research.google.com/assets/colab-badge.svg\" alt=\"Open In Colab\"/></a>"
      ]
    },
    {
      "cell_type": "code",
      "execution_count": 18,
      "metadata": {
        "colab": {
          "base_uri": "https://localhost:8080/"
        },
        "id": "lRJ9wbKTXSAo",
        "outputId": "38881bb9-682b-4ac1-9064-705c32b7b60e"
      },
      "outputs": [
        {
          "output_type": "stream",
          "name": "stdout",
          "text": [
            "Enter your age15\n",
            "You are a Teenager\n"
          ]
        }
      ],
      "source": [
        "#Q1 Age Based Segregation\n",
        "age = int(input(\"Enter your age\"))\n",
        "if age < 0:\n",
        "    print(\"You are not born yet\")\n",
        "elif age < 10:\n",
        "    print(\"You are toddler\")\n",
        "elif age<20:\n",
        "    print(\"You are a Teenager\")\n",
        "elif age<50:\n",
        "    print(\"You are an Adult\")\n",
        "else:\n",
        "    print(\"You are Senior Citizen\")"
      ]
    },
    {
      "cell_type": "code",
      "source": [
        "#Q2 Print Multiplication table\n",
        "a = int(input(\"Enter the number whose Multiplication table:\\n\"))\n",
        "i = 1\n",
        "while i<=10:\n",
        "  print(a,\"*\",i,\"=\",a*i)\n",
        "  i = i+1"
      ],
      "metadata": {
        "colab": {
          "base_uri": "https://localhost:8080/"
        },
        "id": "kG8VlqtbXV-V",
        "outputId": "a82e3970-77ad-4175-87dd-189b3d63ed48"
      },
      "execution_count": 2,
      "outputs": [
        {
          "output_type": "stream",
          "name": "stdout",
          "text": [
            "Enter the number whose Multiplication table:\n",
            "5\n",
            "5 * 1 = 5\n",
            "5 * 2 = 10\n",
            "5 * 3 = 15\n",
            "5 * 4 = 20\n",
            "5 * 5 = 25\n",
            "5 * 6 = 30\n",
            "5 * 7 = 35\n",
            "5 * 8 = 40\n",
            "5 * 9 = 45\n",
            "5 * 10 = 50\n"
          ]
        }
      ]
    },
    {
      "cell_type": "code",
      "source": [
        "#Q3 Print the pattern\n",
        "a = int(input(\"Enter the length:\\n\"))\n",
        "for i in range(a+1):\n",
        "  for j in range(i):\n",
        "    print(i,end=\" \")\n",
        "  print(\" \")\n"
      ],
      "metadata": {
        "colab": {
          "base_uri": "https://localhost:8080/"
        },
        "id": "GLQiTJ3cYXHs",
        "outputId": "9a31ed7e-8a72-4647-bf40-20090527065b"
      },
      "execution_count": 21,
      "outputs": [
        {
          "output_type": "stream",
          "name": "stdout",
          "text": [
            "Enter the length:\n",
            "5\n",
            "\n",
            "1 \n",
            "2 2 \n",
            "3 3 3 \n",
            "4 4 4 4 \n",
            "5 5 5 5 5 \n"
          ]
        }
      ]
    },
    {
      "cell_type": "code",
      "source": [
        "#Q4 Bubble Sort\n",
        "a = int(input(\"Enter lenth of list\"))\n",
        "list = []\n",
        "for i in range(a):\n",
        "  list.append(int(input(\"Enter Number\")))\n",
        "print(\"Before Sorting\",list)\n",
        "for i in range(a):\n",
        "  j = i\n",
        "  while j<a:\n",
        "    if(list[i]>list[j]):\n",
        "      tep = list[i]\n",
        "      list[i]=list[j]\n",
        "      list[j] = tep\n",
        "    j = j+1\n",
        "print(\"After Sorting\",list)"
      ],
      "metadata": {
        "colab": {
          "base_uri": "https://localhost:8080/"
        },
        "id": "mwz6Bo2UY9a1",
        "outputId": "6945a532-8808-428d-d97d-894a9d906fb4"
      },
      "execution_count": 15,
      "outputs": [
        {
          "output_type": "stream",
          "name": "stdout",
          "text": [
            "Enter lenth of list4\n",
            "Enter Number1\n",
            "Enter Number4\n",
            "Enter Number2\n",
            "Enter Number3\n",
            "Before Sorting [1, 4, 2, 3]\n",
            "After Sorting [1, 2, 3, 4]\n"
          ]
        }
      ]
    },
    {
      "cell_type": "code",
      "source": [
        "#Q5 Reversing the Number\n",
        "a = int(input(\"Enter the number:\"))\n",
        "rev = 0\n",
        "while a != 0:\n",
        "  b = a%10;\n",
        "  rev = 10*rev + b\n",
        "  a = a//10\n",
        "print(rev)"
      ],
      "metadata": {
        "colab": {
          "base_uri": "https://localhost:8080/"
        },
        "id": "ZevCZ4wFbXPk",
        "outputId": "b59ebb05-e7e0-467f-849f-4461681df2f2"
      },
      "execution_count": 17,
      "outputs": [
        {
          "output_type": "stream",
          "name": "stdout",
          "text": [
            "Enter the number:1234\n",
            "4321\n"
          ]
        }
      ]
    },
    {
      "cell_type": "code",
      "source": [
        "a = int(input(\"Enter the number:\"))\n",
        "num = a\n",
        "rev = 0\n",
        "while a != 0:\n",
        "  b = a%10;\n",
        "  rev = 10*rev + b\n",
        "  a = a//10\n",
        "if num == rev:\n",
        "  print(\"It is Palindrome\")\n",
        "else:\n",
        "  print(\"It is not a palindrome\")"
      ],
      "metadata": {
        "colab": {
          "base_uri": "https://localhost:8080/"
        },
        "id": "-I9XpY73gSWU",
        "outputId": "0a3774f0-0793-4ad1-c56a-41ff19f89dd4"
      },
      "execution_count": 23,
      "outputs": [
        {
          "output_type": "stream",
          "name": "stdout",
          "text": [
            "Enter the number:1234\n",
            "It is not a palindrome\n"
          ]
        }
      ]
    },
    {
      "cell_type": "code",
      "source": [
        "a = int(input(\"Enter number of rows in Matrix 1\"))\n",
        "b = int(input(\"Enter number of columns in Matrix 1\"))\n",
        "c = int(input(\"Enter number of rows in Matrix 2\"))\n",
        "d = int(input(\"Enter number of Columns in Matrix 2\"))\n",
        "\n",
        "mat1 = [[0] * b for _ in range(a)]\n",
        "mat2 = [[0] * d for _ in range(c)]\n",
        "res = [[0] * d for _ in range(a)]\n",
        "\n",
        "if b != c:\n",
        "    print(\"Matrices cannot be multiplied\")\n",
        "else:\n",
        "    for i in range(a):\n",
        "        for j in range(b):\n",
        "            mat1[i][j] = int(input(\"Enter number\"))\n",
        "\n",
        "    print(mat1)\n",
        "\n",
        "    for i in range(c):\n",
        "        for j in range(d):\n",
        "            mat2[i][j] = int(input(\"Enter number\"))\n",
        "\n",
        "    print(mat2)\n",
        "\n",
        "    for i in range(a):\n",
        "        for j in range(d):\n",
        "            for k in range(b):\n",
        "                res[i][j] += mat1[i][k] * mat2[k][j]\n",
        "\n",
        "    print(res)\n",
        "21"
      ],
      "metadata": {
        "colab": {
          "base_uri": "https://localhost:8080/"
        },
        "id": "a8BcKPbhgnTl",
        "outputId": "4c6d860d-6bd7-444d-f27b-b259f485c36c"
      },
      "execution_count": 28,
      "outputs": [
        {
          "output_type": "stream",
          "name": "stdout",
          "text": [
            "Enter number of rows in Matrix 12\n",
            "Enter number of columns in Matrix 12\n",
            "Enter number of rows in Matrix 22\n",
            "Enter number of Columns in Matrix 22\n",
            "Enter number1\n",
            "Enter number1\n",
            "Enter number1\n",
            "Enter number1\n",
            "[[1, 1], [1, 1]]\n",
            "Enter number1\n",
            "Enter number1\n",
            "Enter number1\n",
            "Enter number1\n",
            "[[1, 1], [1, 1]]\n",
            "[[2, 2], [2, 2]]\n"
          ]
        }
      ]
    }
  ]
}
